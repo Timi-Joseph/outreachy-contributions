{
 "cells": [
  {
   "cell_type": "code",
   "execution_count": null,
   "id": "4ba3fc11",
   "metadata": {},
   "outputs": [
    {
     "name": "stdout",
     "output_type": "stream",
     "text": [
      "['LICENSE', 'requirements.txt', 'models', 'README.md', '.gitignore', 'figures', 'scripts', '.github', 'venv', '.git', 'data', 'notebooks']\n"
     ]
    }
   ],
   "source": []
  },
  {
   "cell_type": "code",
   "execution_count": null,
   "id": "06725b3c",
   "metadata": {},
   "outputs": [
    {
     "name": "stdout",
     "output_type": "stream",
     "text": [
      "Featurizing dili_test\n"
     ]
    },
    {
     "ename": "InputFileNotFoundError",
     "evalue": "Ersilia exception class:\nInputFileNotFoundError\n\nDetailed error:\nInput file ../data/dili/dili_test.csv does not exist\n\nHints:\nPlease be make sure that you are passing a valid input file. Accepted formats are .csv, .tsv and .json\n- Check that the file path is correct\n",
     "output_type": "error",
     "traceback": [
      "\u001b[31m---------------------------------------------------------------------------\u001b[39m",
      "\u001b[31mInputFileNotFoundError\u001b[39m                    Traceback (most recent call last)",
      "\u001b[36mCell\u001b[39m\u001b[36m \u001b[39m\u001b[32mIn[2]\u001b[39m\u001b[32m, line 2\u001b[39m\n\u001b[32m      1\u001b[39m test_path = \u001b[33m'\u001b[39m\u001b[33mdili_test\u001b[39m\u001b[33m'\u001b[39m\n\u001b[32m----> \u001b[39m\u001b[32m2\u001b[39m test_df = \u001b[43mgenerate_features\u001b[49m\u001b[43m(\u001b[49m\u001b[43mfeaturizer\u001b[49m\u001b[43m \u001b[49m\u001b[43m=\u001b[49m\u001b[43m \u001b[49m\u001b[33;43m'\u001b[39;49m\u001b[33;43meos9gg2\u001b[39;49m\u001b[33;43m'\u001b[39;49m\u001b[43m,\u001b[49m\u001b[43m \u001b[49m\u001b[43mDATASET_NAME\u001b[49m\u001b[43m \u001b[49m\u001b[43m=\u001b[49m\u001b[43m \u001b[49m\u001b[43mtest_path\u001b[49m\u001b[43m)\u001b[49m\n",
      "\u001b[36mFile \u001b[39m\u001b[32m~/Documents/timi-outreachy/outreachy-contributions/scripts/featurize.py:75\u001b[39m, in \u001b[36mgenerate_features\u001b[39m\u001b[34m(featurizer, DATASET_NAME, data_dir)\u001b[39m\n\u001b[32m     72\u001b[39m featurize_model = ErsiliaModel(model = featurizer)\n\u001b[32m     73\u001b[39m featurize_model.serve()\n\u001b[32m---> \u001b[39m\u001b[32m75\u001b[39m \u001b[43mfeaturize_model\u001b[49m\u001b[43m.\u001b[49m\u001b[43mrun\u001b[49m\u001b[43m(\u001b[49m\u001b[38;5;28;43minput\u001b[39;49m\u001b[43m \u001b[49m\u001b[43m=\u001b[49m\u001b[43m \u001b[49m\u001b[38;5;28;43mstr\u001b[39;49m\u001b[43m(\u001b[49m\u001b[43mdata_file\u001b[49m\u001b[43m)\u001b[49m\u001b[43m,\u001b[49m\u001b[43m \u001b[49m\u001b[43moutput\u001b[49m\u001b[43m \u001b[49m\u001b[43m=\u001b[49m\u001b[43m \u001b[49m\u001b[38;5;28;43mstr\u001b[39;49m\u001b[43m(\u001b[49m\u001b[43mfeatures_output_path\u001b[49m\u001b[43m)\u001b[49m\u001b[43m)\u001b[49m\n\u001b[32m     76\u001b[39m generated_features = pd.read_csv(features_output_path)\n\u001b[32m     78\u001b[39m df = pd.read_csv(\u001b[33mf\u001b[39m\u001b[33m'\u001b[39m\u001b[38;5;132;01m{\u001b[39;00mdata_dir\u001b[38;5;132;01m}\u001b[39;00m\u001b[33m/\u001b[39m\u001b[38;5;132;01m{\u001b[39;00mDATASET_NAME\u001b[38;5;132;01m}\u001b[39;00m\u001b[33m.csv\u001b[39m\u001b[33m'\u001b[39m)\n",
      "\u001b[36mFile \u001b[39m\u001b[32m~/Documents/timi-outreachy/outreachy-contributions/venv/lib/python3.12/site-packages/ersilia/core/model.py:808\u001b[39m, in \u001b[36mErsiliaModel.run\u001b[39m\u001b[34m(self, input, output, batch_size, track_run)\u001b[39m\n\u001b[32m    806\u001b[39m \u001b[38;5;28;01mif\u001b[39;00m \u001b[38;5;129;01mnot\u001b[39;00m standard_status_ok:\n\u001b[32m    807\u001b[39m     \u001b[38;5;28mself\u001b[39m.logger.debug(\u001b[33m\"\u001b[39m\u001b[33mTrying conventional run\u001b[39m\u001b[33m\"\u001b[39m)\n\u001b[32m--> \u001b[39m\u001b[32m808\u001b[39m     result = \u001b[38;5;28;43mself\u001b[39;49m\u001b[43m.\u001b[49m\u001b[43m_run\u001b[49m\u001b[43m(\u001b[49m\n\u001b[32m    809\u001b[39m \u001b[43m        \u001b[49m\u001b[38;5;28;43minput\u001b[39;49m\u001b[43m=\u001b[49m\u001b[38;5;28;43minput\u001b[39;49m\u001b[43m,\u001b[49m\u001b[43m \u001b[49m\u001b[43moutput\u001b[49m\u001b[43m=\u001b[49m\u001b[43moutput\u001b[49m\u001b[43m,\u001b[49m\u001b[43m \u001b[49m\u001b[43mbatch_size\u001b[49m\u001b[43m=\u001b[49m\u001b[43mbatch_size\u001b[49m\u001b[43m,\u001b[49m\u001b[43m \u001b[49m\u001b[43mtrack_run\u001b[49m\u001b[43m=\u001b[49m\u001b[43mtrack_run\u001b[49m\n\u001b[32m    810\u001b[39m \u001b[43m    \u001b[49m\u001b[43m)\u001b[49m\n\u001b[32m    812\u001b[39m \u001b[38;5;66;03m# Collect metrics sampled during run if tracking is enabled\u001b[39;00m\n\u001b[32m    813\u001b[39m \u001b[38;5;28;01mif\u001b[39;00m \u001b[38;5;28mself\u001b[39m._run_tracker \u001b[38;5;129;01mand\u001b[39;00m track_run:\n",
      "\u001b[36mFile \u001b[39m\u001b[32m~/Documents/timi-outreachy/outreachy-contributions/venv/lib/python3.12/site-packages/ersilia/core/model.py:731\u001b[39m, in \u001b[36mErsiliaModel._run\u001b[39m\u001b[34m(self, input, output, batch_size, track_run)\u001b[39m\n\u001b[32m    727\u001b[39m \u001b[38;5;28;01mdef\u001b[39;00m\u001b[38;5;250m \u001b[39m\u001b[34m_run\u001b[39m(\n\u001b[32m    728\u001b[39m     \u001b[38;5;28mself\u001b[39m, \u001b[38;5;28minput\u001b[39m=\u001b[38;5;28;01mNone\u001b[39;00m, output=\u001b[38;5;28;01mNone\u001b[39;00m, batch_size=DEFAULT_BATCH_SIZE, track_run=\u001b[38;5;28;01mFalse\u001b[39;00m\n\u001b[32m    729\u001b[39m ):\n\u001b[32m    730\u001b[39m     api_name = \u001b[38;5;28mself\u001b[39m.get_apis()[\u001b[32m0\u001b[39m]\n\u001b[32m--> \u001b[39m\u001b[32m731\u001b[39m     result = \u001b[38;5;28;43mself\u001b[39;49m\u001b[43m.\u001b[49m\u001b[43mapi\u001b[49m\u001b[43m(\u001b[49m\n\u001b[32m    732\u001b[39m \u001b[43m        \u001b[49m\u001b[43mapi_name\u001b[49m\u001b[43m=\u001b[49m\u001b[43mapi_name\u001b[49m\u001b[43m,\u001b[49m\u001b[43m \u001b[49m\u001b[38;5;28;43minput\u001b[39;49m\u001b[43m=\u001b[49m\u001b[38;5;28;43minput\u001b[39;49m\u001b[43m,\u001b[49m\u001b[43m \u001b[49m\u001b[43moutput\u001b[49m\u001b[43m=\u001b[49m\u001b[43moutput\u001b[49m\u001b[43m,\u001b[49m\u001b[43m \u001b[49m\u001b[43mbatch_size\u001b[49m\u001b[43m=\u001b[49m\u001b[43mbatch_size\u001b[49m\n\u001b[32m    733\u001b[39m \u001b[43m    \u001b[49m\u001b[43m)\u001b[49m\n\u001b[32m    735\u001b[39m     \u001b[38;5;28;01mreturn\u001b[39;00m result\n",
      "\u001b[36mFile \u001b[39m\u001b[32m~/Documents/timi-outreachy/outreachy-contributions/venv/lib/python3.12/site-packages/ersilia/core/model.py:603\u001b[39m, in \u001b[36mErsiliaModel.api\u001b[39m\u001b[34m(self, api_name, input, output, batch_size)\u001b[39m\n\u001b[32m    601\u001b[39m \u001b[38;5;28;01melse\u001b[39;00m:\n\u001b[32m    602\u001b[39m     \u001b[38;5;28mself\u001b[39m.logger.debug(\u001b[33m\"\u001b[39m\u001b[33mNo file splitting necessary!\u001b[39m\u001b[33m\"\u001b[39m)\n\u001b[32m--> \u001b[39m\u001b[32m603\u001b[39m     \u001b[38;5;28;01mreturn\u001b[39;00m \u001b[38;5;28;43mself\u001b[39;49m\u001b[43m.\u001b[49m\u001b[43mapi_task\u001b[49m\u001b[43m(\u001b[49m\n\u001b[32m    604\u001b[39m \u001b[43m        \u001b[49m\u001b[43mapi_name\u001b[49m\u001b[43m=\u001b[49m\u001b[43mapi_name\u001b[49m\u001b[43m,\u001b[49m\u001b[43m \u001b[49m\u001b[38;5;28;43minput\u001b[39;49m\u001b[43m=\u001b[49m\u001b[38;5;28;43minput\u001b[39;49m\u001b[43m,\u001b[49m\u001b[43m \u001b[49m\u001b[43moutput\u001b[49m\u001b[43m=\u001b[49m\u001b[43moutput\u001b[49m\u001b[43m,\u001b[49m\u001b[43m \u001b[49m\u001b[43mbatch_size\u001b[49m\u001b[43m=\u001b[49m\u001b[43mbatch_size\u001b[49m\n\u001b[32m    605\u001b[39m \u001b[43m    \u001b[49m\u001b[43m)\u001b[49m\n",
      "\u001b[36mFile \u001b[39m\u001b[32m~/Documents/timi-outreachy/outreachy-contributions/venv/lib/python3.12/site-packages/ersilia/core/model.py:640\u001b[39m, in \u001b[36mErsiliaModel.api_task\u001b[39m\u001b[34m(self, api_name, input, output, batch_size)\u001b[39m\n\u001b[32m    637\u001b[39m     \u001b[38;5;28;01mreturn\u001b[39;00m result\n\u001b[32m    638\u001b[39m \u001b[38;5;28;01mif\u001b[39;00m \u001b[38;5;28misinstance\u001b[39m(result, types.GeneratorType):\n\u001b[32m    639\u001b[39m     \u001b[38;5;66;03m# Result is a file\u001b[39;00m\n\u001b[32m--> \u001b[39m\u001b[32m640\u001b[39m \u001b[43m    \u001b[49m\u001b[38;5;28;43;01mfor\u001b[39;49;00m\u001b[43m \u001b[49m\u001b[43mr\u001b[49m\u001b[43m \u001b[49m\u001b[38;5;129;43;01min\u001b[39;49;00m\u001b[43m \u001b[49m\u001b[43mresult\u001b[49m\u001b[43m:\u001b[49m\n\u001b[32m    641\u001b[39m \u001b[43m        \u001b[49m\u001b[38;5;28;43;01mpass\u001b[39;49;00m\n\u001b[32m    642\u001b[39m     \u001b[38;5;28;01mreturn\u001b[39;00m output\n",
      "\u001b[36mFile \u001b[39m\u001b[32m~/Documents/timi-outreachy/outreachy-contributions/venv/lib/python3.12/site-packages/ersilia/core/model.py:367\u001b[39m, in \u001b[36mErsiliaModel._api_runner_iter\u001b[39m\u001b[34m(self, api, input, output, batch_size)\u001b[39m\n\u001b[32m    344\u001b[39m \u001b[38;5;28;01mdef\u001b[39;00m\u001b[38;5;250m \u001b[39m\u001b[34m_api_runner_iter\u001b[39m(\u001b[38;5;28mself\u001b[39m, api: Api, \u001b[38;5;28minput\u001b[39m: \u001b[38;5;28mstr\u001b[39m, output: \u001b[38;5;28mstr\u001b[39m, batch_size: \u001b[38;5;28mint\u001b[39m):\n\u001b[32m    345\u001b[39m \u001b[38;5;250m    \u001b[39m\u001b[33;03m\"\"\"\u001b[39;00m\n\u001b[32m    346\u001b[39m \u001b[33;03m    Run the API in an iterative manner.\u001b[39;00m\n\u001b[32m    347\u001b[39m \n\u001b[32m   (...)\u001b[39m\u001b[32m    365\u001b[39m \u001b[33;03m        The result of each API call.\u001b[39;00m\n\u001b[32m    366\u001b[39m \u001b[33;03m    \"\"\"\u001b[39;00m\n\u001b[32m--> \u001b[39m\u001b[32m367\u001b[39m \u001b[43m    \u001b[49m\u001b[38;5;28;43;01mfor\u001b[39;49;00m\u001b[43m \u001b[49m\u001b[43mresult\u001b[49m\u001b[43m \u001b[49m\u001b[38;5;129;43;01min\u001b[39;49;00m\u001b[43m \u001b[49m\u001b[43mapi\u001b[49m\u001b[43m.\u001b[49m\u001b[43mpost\u001b[49m\u001b[43m(\u001b[49m\u001b[38;5;28;43minput\u001b[39;49m\u001b[43m=\u001b[49m\u001b[38;5;28;43minput\u001b[39;49m\u001b[43m,\u001b[49m\u001b[43m \u001b[49m\u001b[43moutput\u001b[49m\u001b[43m=\u001b[49m\u001b[43moutput\u001b[49m\u001b[43m,\u001b[49m\u001b[43m \u001b[49m\u001b[43mbatch_size\u001b[49m\u001b[43m=\u001b[49m\u001b[43mbatch_size\u001b[49m\u001b[43m)\u001b[49m\u001b[43m:\u001b[49m\n\u001b[32m    368\u001b[39m \u001b[43m        \u001b[49m\u001b[38;5;28;43;01massert\u001b[39;49;00m\u001b[43m \u001b[49m\u001b[43m(\u001b[49m\n\u001b[32m    369\u001b[39m \u001b[43m            \u001b[49m\u001b[43mresult\u001b[49m\u001b[43m \u001b[49m\u001b[38;5;129;43;01mis\u001b[39;49;00m\u001b[43m \u001b[49m\u001b[38;5;129;43;01mnot\u001b[39;49;00m\u001b[43m \u001b[49m\u001b[38;5;28;43;01mNone\u001b[39;49;00m\n\u001b[32m    370\u001b[39m \u001b[43m        \u001b[49m\u001b[43m)\u001b[49m\u001b[43m,\u001b[49m\u001b[43m \u001b[49m\u001b[33;43m\"\u001b[39;49m\u001b[33;43mSomething went wrong. Please contact us at hello@ersila.io\u001b[39;49m\u001b[33;43m\"\u001b[39;49m\n\u001b[32m    371\u001b[39m \u001b[43m        \u001b[49m\u001b[38;5;28;43;01myield\u001b[39;49;00m\u001b[43m \u001b[49m\u001b[43mresult\u001b[49m\n",
      "\u001b[36mFile \u001b[39m\u001b[32m~/Documents/timi-outreachy/outreachy-contributions/venv/lib/python3.12/site-packages/ersilia/serve/api.py:182\u001b[39m, in \u001b[36mApi.post\u001b[39m\u001b[34m(self, input, output, batch_size)\u001b[39m\n\u001b[32m    180\u001b[39m \u001b[38;5;28;01mif\u001b[39;00m \u001b[38;5;28mself\u001b[39m._is_input_file(\u001b[38;5;28minput\u001b[39m):\n\u001b[32m    181\u001b[39m     \u001b[38;5;28;01mif\u001b[39;00m \u001b[38;5;129;01mnot\u001b[39;00m os.path.exists(\u001b[38;5;28minput\u001b[39m):\n\u001b[32m--> \u001b[39m\u001b[32m182\u001b[39m         \u001b[38;5;28;01mraise\u001b[39;00m InputFileNotFoundError(file_name=\u001b[38;5;28minput\u001b[39m)\n\u001b[32m    183\u001b[39m \u001b[38;5;28mself\u001b[39m.logger.debug(\u001b[33m\"\u001b[39m\u001b[33mPosting to \u001b[39m\u001b[38;5;132;01m{0}\u001b[39;00m\u001b[33m\"\u001b[39m.format(\u001b[38;5;28mself\u001b[39m.api_name))\n\u001b[32m    184\u001b[39m \u001b[38;5;28mself\u001b[39m.logger.debug(\u001b[33m\"\u001b[39m\u001b[33mBatch size \u001b[39m\u001b[38;5;132;01m{0}\u001b[39;00m\u001b[33m\"\u001b[39m.format(batch_size))\n",
      "\u001b[31mInputFileNotFoundError\u001b[39m: Ersilia exception class:\nInputFileNotFoundError\n\nDetailed error:\nInput file ../data/dili/dili_test.csv does not exist\n\nHints:\nPlease be make sure that you are passing a valid input file. Accepted formats are .csv, .tsv and .json\n- Check that the file path is correct\n"
     ]
    }
   ],
   "source": []
  },
  {
   "cell_type": "code",
   "execution_count": null,
   "id": "a8410771",
   "metadata": {},
   "outputs": [],
   "source": [
    "train_path = 'dili_train'\n",
    "train_df = generate_features(featurizer = 'eos9gg2', DATASET_NAME = train_path)"
   ]
  },
  {
   "cell_type": "code",
   "execution_count": null,
   "id": "b88a9b3c",
   "metadata": {},
   "outputs": [],
   "source": [
    "valid_path = 'dili_valid'\n",
    "valid_df = generate_features(featurizer = 'eos9gg2', DATASET_NAME = valid_path)"
   ]
  }
 ],
 "metadata": {
  "kernelspec": {
   "display_name": "venv",
   "language": "python",
   "name": "python3"
  },
  "language_info": {
   "codemirror_mode": {
    "name": "ipython",
    "version": 3
   },
   "file_extension": ".py",
   "mimetype": "text/x-python",
   "name": "python",
   "nbconvert_exporter": "python",
   "pygments_lexer": "ipython3",
   "version": "3.12.0"
  }
 },
 "nbformat": 4,
 "nbformat_minor": 5
}
