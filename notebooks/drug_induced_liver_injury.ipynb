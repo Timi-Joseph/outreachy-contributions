{
 "cells": [
  {
   "cell_type": "code",
   "execution_count": 1,
   "id": "a4129d74",
   "metadata": {},
   "outputs": [],
   "source": [
    "%%capture\n",
    "%pip install PyTDC # install the PyTDC Package"
   ]
  },
  {
   "cell_type": "code",
   "execution_count": 2,
   "id": "4fd4eb8f",
   "metadata": {},
   "outputs": [],
   "source": [
    "from tdc.single_pred import Tox"
   ]
  },
  {
   "cell_type": "code",
   "execution_count": 4,
   "id": "96c203b7",
   "metadata": {},
   "outputs": [
    {
     "name": "stderr",
     "output_type": "stream",
     "text": [
      "Found local copy...\n",
      "Loading...\n",
      "Done!\n"
     ]
    }
   ],
   "source": [
    "data = Tox(name = 'DILI')\n"
   ]
  },
  {
   "cell_type": "code",
   "execution_count": 5,
   "id": "92c11233",
   "metadata": {},
   "outputs": [],
   "source": [
    "split = data.get_split()"
   ]
  },
  {
   "cell_type": "code",
   "execution_count": 6,
   "id": "989066f3",
   "metadata": {},
   "outputs": [],
   "source": [
    "train = split[\"train\"]\n",
    "validation = split[\"valid\"]\n",
    "test = split[\"test\"]"
   ]
  },
  {
   "cell_type": "code",
   "execution_count": 8,
   "id": "69e68c71",
   "metadata": {},
   "outputs": [],
   "source": [
    "# save the train data to the data folder of the repo\n",
    "split['train'].to_csv(\"../data/dili/dili_train.csv\", index=False)\n"
   ]
  },
  {
   "cell_type": "code",
   "execution_count": 9,
   "id": "0681e16f",
   "metadata": {},
   "outputs": [],
   "source": [
    "# save the validation data to the data folder of the repo\n",
    "split['valid'].to_csv(\"../data/dili/dili_valid.csv\", index=False)"
   ]
  },
  {
   "cell_type": "code",
   "execution_count": 10,
   "id": "3ac13d3c",
   "metadata": {},
   "outputs": [],
   "source": [
    "# save the test data to the data folder of the repo\n",
    "split['test'].to_csv(\"../data/dili/dili_test.csv\", index=False)"
   ]
  },
  {
   "cell_type": "code",
   "execution_count": 11,
   "id": "6bc5c896",
   "metadata": {},
   "outputs": [
    {
     "name": "stdout",
     "output_type": "stream",
     "text": [
      "332\n",
      "95\n",
      "48\n"
     ]
    }
   ],
   "source": [
    "# train.head()\n",
    "print(len(train))\n",
    "print(len(test))\n",
    "print(len(validation))"
   ]
  },
  {
   "cell_type": "code",
   "execution_count": null,
   "id": "b3cdd905",
   "metadata": {},
   "outputs": [],
   "source": []
  }
 ],
 "metadata": {
  "kernelspec": {
   "display_name": "venv",
   "language": "python",
   "name": "python3"
  },
  "language_info": {
   "codemirror_mode": {
    "name": "ipython",
    "version": 3
   },
   "file_extension": ".py",
   "mimetype": "text/x-python",
   "name": "python",
   "nbconvert_exporter": "python",
   "pygments_lexer": "ipython3",
   "version": "3.12.0"
  }
 },
 "nbformat": 4,
 "nbformat_minor": 5
}
